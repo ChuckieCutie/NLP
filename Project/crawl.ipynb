{
 "cells": [
  {
   "cell_type": "code",
   "execution_count": 4,
   "metadata": {},
   "outputs": [
    {
     "name": "stdout",
     "output_type": "stream",
     "text": [
      "Lỗi: name 'browser' is not defined\n"
     ]
    }
   ],
   "source": [
    "from selenium import webdriver\n",
    "from selenium.webdriver.edge.service import Service\n",
    "import time\n",
    "import random\n",
    "from selenium import webdriver\n",
    "from selenium.webdriver.common.by import By\n",
    "from time import sleep\n",
    "from selenium.webdriver.common.keys import Keys\n",
    "from selenium.webdriver.support.ui import WebDriverWait\n",
    "from selenium.webdriver.support import expected_conditions as EC\n",
    "import random\n",
    "\n",
    "# Đường dẫn tới EdgeDriver\n",
    "service = Service(\"E:/Downloads/edgedriver_win64/msedgedriver.exe\")  # Thay \"path/to/edgedriver\" bằng đường dẫn thực tế\n",
    "\n",
    "# Khởi tạo trình duyệt Edge\n",
    "driver = webdriver.Edge(service=service)\n",
    "\n",
    "# Mở URL\n",
    "driver.get('https://www.facebook.com/fae2000.vn/posts/pfbid02othVZBCXenJkFJ4kR8pCp9X6ih22R4Du4gTwiKTCPidgRCQhcPYKSeGsT8zQ9zo8l?__cft__[0]=AZXoDNKe7GqW4vT5-C1mWzkxribnk5MEYkTrY7sBnvShH3u8dnxkOQlP2zn9b3_J6jMax1-eeLLqya3VNhwNPWdktFjggnE5-yNoQtYeq45kHF-kjop7aYSS3ktXyd7UyZUYvAMbLjLNeBWWeutvEw58gcs5OSbhBBut1TpRQ15K3iMxEVMTlRSTn2UK6RzpSr7NPSjuQ0rBQ9d1K0KusqNqKYpSOYAme8EqsqzGUi2qtHatTek1REP3U39iuR32dnc&__tn__=%2CO%2CP-R')\n",
    "\n",
    "time.sleep(100)\n",
    "\n",
    "try:\n",
    "\n",
    "\n",
    "    showcomment_link = browser.find_element(By.XPATH, \"//span[text(🙁'Most relevant']\")\n",
    "    showcomment_link.click()\n",
    "    print(\"Nhấn vào 'Xem thêm bình luận' thành công\")\n",
    "    \n",
    "    # Thêm thời gian chờ sau khi nhấn\n",
    "    sleep(5)\n",
    "except Exception as e:\n",
    "    print(\"Lỗi:\", e)"
   ]
  }
 ],
 "metadata": {
  "kernelspec": {
   "display_name": "base",
   "language": "python",
   "name": "python3"
  },
  "language_info": {
   "codemirror_mode": {
    "name": "ipython",
    "version": 3
   },
   "file_extension": ".py",
   "mimetype": "text/x-python",
   "name": "python",
   "nbconvert_exporter": "python",
   "pygments_lexer": "ipython3",
   "version": "3.12.4"
  }
 },
 "nbformat": 4,
 "nbformat_minor": 2
}
